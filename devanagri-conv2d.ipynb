{
 "cells": [
  {
   "cell_type": "code",
   "execution_count": 1,
   "metadata": {
    "_cell_guid": "b1076dfc-b9ad-4769-8c92-a6c4dae69d19",
    "_uuid": "8f2839f25d086af736a60e9eeb907d3b93b6e0e5",
    "papermill": {
     "duration": 6.700263,
     "end_time": "2021-04-08T12:34:50.816036",
     "exception": false,
     "start_time": "2021-04-08T12:34:44.115773",
     "status": "completed"
    },
    "tags": []
   },
   "outputs": [],
   "source": [
    "import numpy as np\n",
    "import pandas as pd\n",
    "\n",
    "from sklearn.metrics import confusion_matrix\n",
    "from sklearn.model_selection import train_test_split\n",
    "from sklearn.preprocessing import StandardScaler, OneHotEncoder, LabelBinarizer\n",
    "from sklearn.compose import make_column_transformer, make_column_selector\n",
    "\n",
    "import itertools\n",
    "\n",
    "import tensorflow as tf\n",
    "from tensorflow import keras\n",
    "from keras import models\n",
    "from keras import layers\n",
    "from keras.models import Sequential\n",
    "from keras.layers import Dense, Dropout, Flatten\n",
    "from keras.callbacks import EarlyStopping\n",
    "from keras.layers.convolutional import Conv2D\n",
    "from keras.layers.convolutional import MaxPooling2D\n",
    "from keras.utils import np_utils\n",
    "\n",
    "import seaborn as sns\n",
    "import matplotlib.pyplot as plt\n",
    "\n",
    "import os\n",
    "#for dirname, _, filenames in os.walk('/kaggle/input'):\n",
    "#    for filename in filenames:\n",
    "#        print(os.path.join(dirname, filename))"
   ]
  },
  {
   "cell_type": "code",
   "execution_count": 2,
   "metadata": {
    "papermill": {
     "duration": 6.354258,
     "end_time": "2021-04-08T12:34:57.224562",
     "exception": false,
     "start_time": "2021-04-08T12:34:50.870304",
     "status": "completed"
    },
    "tags": []
   },
   "outputs": [],
   "source": [
    "train = pd.read_csv(\"data.csv\")"
   ]
  },
  {
   "cell_type": "code",
   "execution_count": 3,
   "metadata": {},
   "outputs": [
    {
     "data": {
      "text/html": [
       "<div>\n",
       "<style scoped>\n",
       "    .dataframe tbody tr th:only-of-type {\n",
       "        vertical-align: middle;\n",
       "    }\n",
       "\n",
       "    .dataframe tbody tr th {\n",
       "        vertical-align: top;\n",
       "    }\n",
       "\n",
       "    .dataframe thead th {\n",
       "        text-align: right;\n",
       "    }\n",
       "</style>\n",
       "<table border=\"1\" class=\"dataframe\">\n",
       "  <thead>\n",
       "    <tr style=\"text-align: right;\">\n",
       "      <th></th>\n",
       "      <th>pixel_0000</th>\n",
       "      <th>pixel_0001</th>\n",
       "      <th>pixel_0002</th>\n",
       "      <th>pixel_0003</th>\n",
       "      <th>pixel_0004</th>\n",
       "      <th>pixel_0005</th>\n",
       "      <th>pixel_0006</th>\n",
       "      <th>pixel_0007</th>\n",
       "      <th>pixel_0008</th>\n",
       "      <th>pixel_0009</th>\n",
       "      <th>...</th>\n",
       "      <th>pixel_1015</th>\n",
       "      <th>pixel_1016</th>\n",
       "      <th>pixel_1017</th>\n",
       "      <th>pixel_1018</th>\n",
       "      <th>pixel_1019</th>\n",
       "      <th>pixel_1020</th>\n",
       "      <th>pixel_1021</th>\n",
       "      <th>pixel_1022</th>\n",
       "      <th>pixel_1023</th>\n",
       "      <th>character</th>\n",
       "    </tr>\n",
       "  </thead>\n",
       "  <tbody>\n",
       "    <tr>\n",
       "      <th>0</th>\n",
       "      <td>0</td>\n",
       "      <td>0</td>\n",
       "      <td>0</td>\n",
       "      <td>0</td>\n",
       "      <td>0</td>\n",
       "      <td>0</td>\n",
       "      <td>0</td>\n",
       "      <td>0</td>\n",
       "      <td>0</td>\n",
       "      <td>0</td>\n",
       "      <td>...</td>\n",
       "      <td>0</td>\n",
       "      <td>0</td>\n",
       "      <td>0</td>\n",
       "      <td>0</td>\n",
       "      <td>0</td>\n",
       "      <td>0</td>\n",
       "      <td>0</td>\n",
       "      <td>0</td>\n",
       "      <td>0</td>\n",
       "      <td>character_01_ka</td>\n",
       "    </tr>\n",
       "    <tr>\n",
       "      <th>1</th>\n",
       "      <td>0</td>\n",
       "      <td>0</td>\n",
       "      <td>0</td>\n",
       "      <td>0</td>\n",
       "      <td>0</td>\n",
       "      <td>0</td>\n",
       "      <td>0</td>\n",
       "      <td>0</td>\n",
       "      <td>0</td>\n",
       "      <td>0</td>\n",
       "      <td>...</td>\n",
       "      <td>0</td>\n",
       "      <td>0</td>\n",
       "      <td>0</td>\n",
       "      <td>0</td>\n",
       "      <td>0</td>\n",
       "      <td>0</td>\n",
       "      <td>0</td>\n",
       "      <td>0</td>\n",
       "      <td>0</td>\n",
       "      <td>character_01_ka</td>\n",
       "    </tr>\n",
       "    <tr>\n",
       "      <th>2</th>\n",
       "      <td>0</td>\n",
       "      <td>0</td>\n",
       "      <td>0</td>\n",
       "      <td>0</td>\n",
       "      <td>0</td>\n",
       "      <td>0</td>\n",
       "      <td>0</td>\n",
       "      <td>0</td>\n",
       "      <td>0</td>\n",
       "      <td>0</td>\n",
       "      <td>...</td>\n",
       "      <td>0</td>\n",
       "      <td>0</td>\n",
       "      <td>0</td>\n",
       "      <td>0</td>\n",
       "      <td>0</td>\n",
       "      <td>0</td>\n",
       "      <td>0</td>\n",
       "      <td>0</td>\n",
       "      <td>0</td>\n",
       "      <td>character_01_ka</td>\n",
       "    </tr>\n",
       "    <tr>\n",
       "      <th>3</th>\n",
       "      <td>0</td>\n",
       "      <td>0</td>\n",
       "      <td>0</td>\n",
       "      <td>0</td>\n",
       "      <td>0</td>\n",
       "      <td>0</td>\n",
       "      <td>0</td>\n",
       "      <td>0</td>\n",
       "      <td>0</td>\n",
       "      <td>0</td>\n",
       "      <td>...</td>\n",
       "      <td>0</td>\n",
       "      <td>0</td>\n",
       "      <td>0</td>\n",
       "      <td>0</td>\n",
       "      <td>0</td>\n",
       "      <td>0</td>\n",
       "      <td>0</td>\n",
       "      <td>0</td>\n",
       "      <td>0</td>\n",
       "      <td>character_01_ka</td>\n",
       "    </tr>\n",
       "    <tr>\n",
       "      <th>4</th>\n",
       "      <td>0</td>\n",
       "      <td>0</td>\n",
       "      <td>0</td>\n",
       "      <td>0</td>\n",
       "      <td>0</td>\n",
       "      <td>0</td>\n",
       "      <td>0</td>\n",
       "      <td>0</td>\n",
       "      <td>0</td>\n",
       "      <td>0</td>\n",
       "      <td>...</td>\n",
       "      <td>0</td>\n",
       "      <td>0</td>\n",
       "      <td>0</td>\n",
       "      <td>0</td>\n",
       "      <td>0</td>\n",
       "      <td>0</td>\n",
       "      <td>0</td>\n",
       "      <td>0</td>\n",
       "      <td>0</td>\n",
       "      <td>character_01_ka</td>\n",
       "    </tr>\n",
       "  </tbody>\n",
       "</table>\n",
       "<p>5 rows × 1025 columns</p>\n",
       "</div>"
      ],
      "text/plain": [
       "   pixel_0000  pixel_0001  pixel_0002  pixel_0003  pixel_0004  pixel_0005  \\\n",
       "0           0           0           0           0           0           0   \n",
       "1           0           0           0           0           0           0   \n",
       "2           0           0           0           0           0           0   \n",
       "3           0           0           0           0           0           0   \n",
       "4           0           0           0           0           0           0   \n",
       "\n",
       "   pixel_0006  pixel_0007  pixel_0008  pixel_0009  ...  pixel_1015  \\\n",
       "0           0           0           0           0  ...           0   \n",
       "1           0           0           0           0  ...           0   \n",
       "2           0           0           0           0  ...           0   \n",
       "3           0           0           0           0  ...           0   \n",
       "4           0           0           0           0  ...           0   \n",
       "\n",
       "   pixel_1016  pixel_1017  pixel_1018  pixel_1019  pixel_1020  pixel_1021  \\\n",
       "0           0           0           0           0           0           0   \n",
       "1           0           0           0           0           0           0   \n",
       "2           0           0           0           0           0           0   \n",
       "3           0           0           0           0           0           0   \n",
       "4           0           0           0           0           0           0   \n",
       "\n",
       "   pixel_1022  pixel_1023        character  \n",
       "0           0           0  character_01_ka  \n",
       "1           0           0  character_01_ka  \n",
       "2           0           0  character_01_ka  \n",
       "3           0           0  character_01_ka  \n",
       "4           0           0  character_01_ka  \n",
       "\n",
       "[5 rows x 1025 columns]"
      ]
     },
     "execution_count": 3,
     "metadata": {},
     "output_type": "execute_result"
    }
   ],
   "source": [
    "train.head()"
   ]
  },
  {
   "cell_type": "code",
   "execution_count": 4,
   "metadata": {
    "papermill": {
     "duration": 0.137793,
     "end_time": "2021-04-08T12:34:57.38461",
     "exception": false,
     "start_time": "2021-04-08T12:34:57.246817",
     "status": "completed"
    },
    "tags": []
   },
   "outputs": [],
   "source": [
    "X = train.drop(\"character\", axis=1)\n",
    "y0 = train[\"character\"]"
   ]
  },
  {
   "cell_type": "code",
   "execution_count": 5,
   "metadata": {},
   "outputs": [
    {
     "name": "stdout",
     "output_type": "stream",
     "text": [
      "['character_01_ka' 'character_02_kha' 'character_03_ga' 'character_04_gha'\n",
      " 'character_05_kna' 'character_06_cha' 'character_07_chha'\n",
      " 'character_08_ja' 'character_09_jha' 'character_10_yna'\n",
      " 'character_11_taamatar' 'character_12_thaa' 'character_13_daa'\n",
      " 'character_14_dhaa' 'character_15_adna' 'character_16_tabala'\n",
      " 'character_17_tha' 'character_18_da' 'character_19_dha' 'character_20_na'\n",
      " 'character_21_pa' 'character_22_pha' 'character_23_ba' 'character_24_bha'\n",
      " 'character_25_ma' 'character_26_yaw' 'character_27_ra' 'character_28_la'\n",
      " 'character_29_waw' 'character_30_motosaw' 'character_31_petchiryakha'\n",
      " 'character_32_patalosaw' 'character_33_ha' 'character_34_chhya'\n",
      " 'character_35_tra' 'character_36_gya' 'digit_0' 'digit_1' 'digit_2'\n",
      " 'digit_3' 'digit_4' 'digit_5' 'digit_6' 'digit_7' 'digit_8' 'digit_9']\n",
      "46\n"
     ]
    }
   ],
   "source": [
    "print(y0.unique())\n",
    "print(len(y0.unique()))"
   ]
  },
  {
   "cell_type": "code",
   "execution_count": 6,
   "metadata": {},
   "outputs": [],
   "source": [
    "binencoder = LabelBinarizer()\n",
    "y = binencoder.fit_transform(y0)"
   ]
  },
  {
   "cell_type": "code",
   "execution_count": 7,
   "metadata": {},
   "outputs": [
    {
     "data": {
      "text/plain": [
       "array([[1, 0, 0, ..., 0, 0, 0],\n",
       "       [1, 0, 0, ..., 0, 0, 0],\n",
       "       [1, 0, 0, ..., 0, 0, 0],\n",
       "       ...,\n",
       "       [0, 0, 0, ..., 0, 0, 1],\n",
       "       [0, 0, 0, ..., 0, 0, 1],\n",
       "       [0, 0, 0, ..., 0, 0, 1]])"
      ]
     },
     "execution_count": 7,
     "metadata": {},
     "output_type": "execute_result"
    }
   ],
   "source": [
    "y"
   ]
  },
  {
   "cell_type": "code",
   "execution_count": 8,
   "metadata": {
    "papermill": {
     "duration": 0.328941,
     "end_time": "2021-04-08T12:34:57.728628",
     "exception": false,
     "start_time": "2021-04-08T12:34:57.399687",
     "status": "completed"
    },
    "tags": []
   },
   "outputs": [],
   "source": [
    "x_train,x_test,y_train,y_test = train_test_split(X,y,test_size=0.2,random_state=90)\n",
    "\n",
    "x_train = x_train/255\n",
    "x_test = x_test/255"
   ]
  },
  {
   "cell_type": "code",
   "execution_count": 9,
   "metadata": {},
   "outputs": [
    {
     "name": "stdout",
     "output_type": "stream",
     "text": [
      "(92000, 1024)\n",
      "(73600, 1024)\n",
      "(18400, 1024)\n",
      "(73600, 46)\n",
      "(18400, 46)\n"
     ]
    }
   ],
   "source": [
    "print(X.shape)\n",
    "print(x_train.shape)\n",
    "print(x_test.shape)\n",
    "print(y_train.shape)\n",
    "print(y_test.shape)"
   ]
  },
  {
   "cell_type": "code",
   "execution_count": 10,
   "metadata": {
    "papermill": {
     "duration": 0.023643,
     "end_time": "2021-04-08T12:34:57.767666",
     "exception": false,
     "start_time": "2021-04-08T12:34:57.744023",
     "status": "completed"
    },
    "tags": []
   },
   "outputs": [],
   "source": [
    "re_x_train = x_train.values.reshape(-1, 32, 32, 1)\n",
    "re_x_test = x_test.values.reshape(-1, 32, 32, 1)"
   ]
  },
  {
   "cell_type": "code",
   "execution_count": 11,
   "metadata": {},
   "outputs": [
    {
     "name": "stdout",
     "output_type": "stream",
     "text": [
      "(92000, 1024)\n",
      "(73600, 32, 32, 1)\n",
      "(18400, 32, 32, 1)\n",
      "(73600, 46)\n",
      "(18400, 46)\n"
     ]
    }
   ],
   "source": [
    "print(X.shape)\n",
    "print(re_x_train.shape)\n",
    "print(re_x_test.shape)\n",
    "print(y_train.shape)\n",
    "print(y_test.shape)"
   ]
  },
  {
   "cell_type": "code",
   "execution_count": 12,
   "metadata": {
    "papermill": {
     "duration": 0.048718,
     "end_time": "2021-04-08T12:34:57.974354",
     "exception": false,
     "start_time": "2021-04-08T12:34:57.925636",
     "status": "completed"
    },
    "tags": []
   },
   "outputs": [],
   "source": [
    "\n",
    "model = Sequential()\n",
    "\n",
    "model.add(Conv2D(32,(4,4),input_shape = (32,32,1),activation = 'relu'))\n",
    "model.add(MaxPooling2D(pool_size=(2,2)))\n",
    "\n",
    "model.add(Conv2D(64,(3,3),activation = 'relu'))\n",
    "model.add(MaxPooling2D(pool_size=(2,2)))\n",
    "model.add(Dropout(0.2))\n",
    "\n",
    "model.add(Flatten())\n",
    "model.add(Dense(128,activation='relu'))\n",
    "model.add(Dense(46, activation='softmax'))\n"
   ]
  },
  {
   "cell_type": "code",
   "execution_count": 13,
   "metadata": {},
   "outputs": [
    {
     "name": "stdout",
     "output_type": "stream",
     "text": [
      "Model: \"sequential\"\n",
      "_________________________________________________________________\n",
      "Layer (type)                 Output Shape              Param #   \n",
      "=================================================================\n",
      "conv2d (Conv2D)              (None, 29, 29, 32)        544       \n",
      "_________________________________________________________________\n",
      "max_pooling2d (MaxPooling2D) (None, 14, 14, 32)        0         \n",
      "_________________________________________________________________\n",
      "conv2d_1 (Conv2D)            (None, 12, 12, 64)        18496     \n",
      "_________________________________________________________________\n",
      "max_pooling2d_1 (MaxPooling2 (None, 6, 6, 64)          0         \n",
      "_________________________________________________________________\n",
      "dropout (Dropout)            (None, 6, 6, 64)          0         \n",
      "_________________________________________________________________\n",
      "flatten (Flatten)            (None, 2304)              0         \n",
      "_________________________________________________________________\n",
      "dense (Dense)                (None, 128)               295040    \n",
      "_________________________________________________________________\n",
      "dense_1 (Dense)              (None, 46)                5934      \n",
      "=================================================================\n",
      "Total params: 320,014\n",
      "Trainable params: 320,014\n",
      "Non-trainable params: 0\n",
      "_________________________________________________________________\n"
     ]
    }
   ],
   "source": [
    "model.summary()"
   ]
  },
  {
   "cell_type": "code",
   "execution_count": 14,
   "metadata": {
    "papermill": {
     "duration": 0.038507,
     "end_time": "2021-04-08T12:34:58.028679",
     "exception": false,
     "start_time": "2021-04-08T12:34:57.990172",
     "status": "completed"
    },
    "tags": []
   },
   "outputs": [],
   "source": [
    "model.compile(\n",
    "    loss='categorical_crossentropy', \n",
    "    optimizer='adam',\n",
    "    metrics=['accuracy']\n",
    ")"
   ]
  },
  {
   "cell_type": "code",
   "execution_count": 15,
   "metadata": {},
   "outputs": [
    {
     "name": "stdout",
     "output_type": "stream",
     "text": [
      "(73600, 32, 32, 1)\n",
      "(18400, 32, 32, 1)\n",
      "(73600, 46)\n",
      "(18400, 46)\n"
     ]
    }
   ],
   "source": [
    "print(re_x_train.shape)\n",
    "print(re_x_test.shape)\n",
    "print(y_train.shape)\n",
    "print(y_test.shape)"
   ]
  },
  {
   "cell_type": "code",
   "execution_count": 16,
   "metadata": {},
   "outputs": [
    {
     "name": "stdout",
     "output_type": "stream",
     "text": [
      "Epoch 1/20\n",
      "7360/7360 - 29s - loss: 0.4754 - accuracy: 0.8616 - val_loss: 0.1804 - val_accuracy: 0.9455\n",
      "Epoch 2/20\n",
      "7360/7360 - 19s - loss: 0.1487 - accuracy: 0.9543 - val_loss: 0.1493 - val_accuracy: 0.9528\n",
      "Epoch 3/20\n",
      "7360/7360 - 17s - loss: 0.0981 - accuracy: 0.9687 - val_loss: 0.1170 - val_accuracy: 0.9640\n",
      "Epoch 4/20\n",
      "7360/7360 - 17s - loss: 0.0757 - accuracy: 0.9757 - val_loss: 0.0968 - val_accuracy: 0.9731\n",
      "Epoch 5/20\n",
      "7360/7360 - 18s - loss: 0.0617 - accuracy: 0.9809 - val_loss: 0.1183 - val_accuracy: 0.9694\n",
      "Epoch 6/20\n",
      "7360/7360 - 19s - loss: 0.0534 - accuracy: 0.9827 - val_loss: 0.0973 - val_accuracy: 0.9759\n",
      "Epoch 7/20\n",
      "7360/7360 - 20s - loss: 0.0453 - accuracy: 0.9857 - val_loss: 0.1011 - val_accuracy: 0.9748\n",
      "Epoch 8/20\n",
      "7360/7360 - 20s - loss: 0.0410 - accuracy: 0.9869 - val_loss: 0.1188 - val_accuracy: 0.9720\n",
      "Epoch 9/20\n",
      "7360/7360 - 19s - loss: 0.0402 - accuracy: 0.9869 - val_loss: 0.1139 - val_accuracy: 0.9735\n",
      "Epoch 10/20\n",
      "7360/7360 - 17s - loss: 0.0362 - accuracy: 0.9887 - val_loss: 0.1189 - val_accuracy: 0.9744\n",
      "Epoch 11/20\n",
      "7360/7360 - 17s - loss: 0.0350 - accuracy: 0.9897 - val_loss: 0.1180 - val_accuracy: 0.9772\n",
      "Epoch 12/20\n",
      "7360/7360 - 17s - loss: 0.0327 - accuracy: 0.9900 - val_loss: 0.1376 - val_accuracy: 0.9724\n",
      "Epoch 13/20\n",
      "7360/7360 - 17s - loss: 0.0339 - accuracy: 0.9903 - val_loss: 0.1243 - val_accuracy: 0.9763\n",
      "Epoch 14/20\n",
      "7360/7360 - 19s - loss: 0.0305 - accuracy: 0.9912 - val_loss: 0.1494 - val_accuracy: 0.9749\n",
      "Epoch 15/20\n",
      "7360/7360 - 19s - loss: 0.0333 - accuracy: 0.9904 - val_loss: 0.1259 - val_accuracy: 0.9790\n",
      "Epoch 16/20\n",
      "7360/7360 - 20s - loss: 0.0307 - accuracy: 0.9916 - val_loss: 0.1373 - val_accuracy: 0.9778\n",
      "Epoch 17/20\n",
      "7360/7360 - 19s - loss: 0.0279 - accuracy: 0.9920 - val_loss: 0.1489 - val_accuracy: 0.9753\n",
      "Epoch 18/20\n",
      "7360/7360 - 20s - loss: 0.0312 - accuracy: 0.9912 - val_loss: 0.1422 - val_accuracy: 0.9779\n",
      "Epoch 19/20\n",
      "7360/7360 - 20s - loss: 0.0276 - accuracy: 0.9924 - val_loss: 0.1631 - val_accuracy: 0.9763\n",
      "Epoch 20/20\n",
      "7360/7360 - 19s - loss: 0.0272 - accuracy: 0.9931 - val_loss: 0.1742 - val_accuracy: 0.9764\n"
     ]
    }
   ],
   "source": [
    "history = model.fit(re_x_train, y_train, validation_split=0.2, epochs=20, batch_size=8, verbose=2)"
   ]
  },
  {
   "cell_type": "code",
   "execution_count": 17,
   "metadata": {
    "papermill": {
     "duration": 6.6458,
     "end_time": "2021-04-08T16:21:43.136077",
     "exception": false,
     "start_time": "2021-04-08T16:21:36.490277",
     "status": "completed"
    },
    "tags": []
   },
   "outputs": [
    {
     "data": {
      "text/plain": [
       "<AxesSubplot:>"
      ]
     },
     "execution_count": 17,
     "metadata": {},
     "output_type": "execute_result"
    },
    {
     "data": {
      "image/png": "[encoded data removed]",
      "text/plain": [
       "<Figure size 432x288 with 1 Axes>"
      ]
     },
     "metadata": {
      "needs_background": "light"
     },
     "output_type": "display_data"
    }
   ],
   "source": [
    "history_df = pd.DataFrame(history.history)\n",
    "history_df.loc[:, ['loss', 'val_loss', 'accuracy', 'val_accuracy']].plot()"
   ]
  },
  {
   "cell_type": "code",
   "execution_count": 18,
   "metadata": {},
   "outputs": [
    {
     "data": {
      "image/png": "[encoded data removed]",
      "text/plain": [
       "<Figure size 432x288 with 1 Axes>"
      ]
     },
     "metadata": {
      "needs_background": "light"
     },
     "output_type": "display_data"
    }
   ],
   "source": [
    "X_images = X.values.reshape((-1,32,32))\n",
    "\n",
    "plt.imshow(X_images[555])\n",
    "plt.show()"
   ]
  },
  {
   "cell_type": "code",
   "execution_count": 19,
   "metadata": {},
   "outputs": [
    {
     "data": {
      "text/plain": [
       "'character_01_ka'"
      ]
     },
     "execution_count": 19,
     "metadata": {},
     "output_type": "execute_result"
    }
   ],
   "source": [
    "imgTrans = X_images[555].reshape(1,32,32,1)\n",
    "predictions = model.predict(imgTrans)\n",
    "binencoder.classes_[np.argmax(predictions)]"
   ]
  },
  {
   "cell_type": "code",
   "execution_count": null,
   "metadata": {},
   "outputs": [],
   "source": []
  }
 ],
 "metadata": {
  "kernelspec": {
   "display_name": "Python 3 (ipykernel)",
   "language": "python",
   "name": "python3"
  },
  "language_info": {
   "codemirror_mode": {
    "name": "ipython",
    "version": 3
   },
   "file_extension": ".py",
   "mimetype": "text/x-python",
   "name": "python",
   "nbconvert_exporter": "python",
   "pygments_lexer": "ipython3",
   "version": "3.9.7"
  }
 },
 "nbformat": 4,
 "nbformat_minor": 4
}
